{
 "cells": [
  {
   "cell_type": "code",
   "execution_count": null,
   "metadata": {},
   "outputs": [],
   "source": [
    "import json\n",
    "import random\n",
    "import numpy as np\n",
    "\n",
    "data = json.load(open(\"annotations/view2cap/ScanNet_val.json\", 'r'))\n",
    "\n",
    "print(len(data))\n",
    "\n",
    "val_scan_ids = np.loadtxt(\"annotations/scannet/scannetv2_val.txt\", dtype=str)\n",
    "print(len(val_scan_ids))\n",
    "\n",
    "data = [x for x in data if x[\"scan_id\"] in val_scan_ids]\n",
    "print(len(data))\n",
    "\n",
    "new_data = random.sample(data, int(0.2 * len(data)))\n",
    "\n",
    "print(len(new_data))\n",
    "\n",
    "with open(\"annotations/view2cap/ScanNet_val_sampled.json\", 'w') as f:\n",
    "    json.dump(new_data, f, indent=4)\n"
   ]
  },
  {
   "cell_type": "code",
   "execution_count": 9,
   "metadata": {},
   "outputs": [
    {
     "name": "stdout",
     "output_type": "stream",
     "text": [
      "15134\n"
     ]
    }
   ],
   "source": [
    "import json\n",
    "import random\n",
    "import numpy as np\n",
    "\n",
    "split = \"val\"\n",
    "data = json.load(open(\"annotations/view2cap/ScanNet_simple_train.json\", 'r'))\n",
    "\n",
    "print(len(data))\n",
    "\n",
    "\n",
    "for item in data:\n",
    "    item['prompt'] = \"Describe your current situation in brief.\"\n",
    "\n",
    "\n",
    "# new_data = random.sample(data, int(0.2 * len(data)))\n",
    "\n",
    "# print(len(new_data))\n",
    "\n",
    "with open(\"annotations/view2cap/ScanNet_simple_train.json\", 'w') as f:\n",
    "    json.dump(data, f, indent=4)\n"
   ]
  },
  {
   "cell_type": "markdown",
   "metadata": {},
   "source": [
    "### Process viewqa single view"
   ]
  },
  {
   "cell_type": "code",
   "execution_count": 19,
   "metadata": {},
   "outputs": [
    {
     "name": "stdout",
     "output_type": "stream",
     "text": [
      "3694\n"
     ]
    }
   ],
   "source": [
    "import json\n",
    "import random\n",
    "import numpy as np\n",
    "\n",
    "from preprocess.prepare_sqa3d_annos import get_sqa_question_type\n",
    "\n",
    "split = \"val\"\n",
    "data = json.load(open(f\"annotations/viewqa/ScanNet_single_{split}.json\", 'r'))\n",
    "\n",
    "print(len(data))\n",
    "\n",
    "new_data = []\n",
    "\n",
    "for item in data:\n",
    "    # print(item)\n",
    "    obj_id = item['obj_id']\n",
    "    scene_id = item['scan_id']\n",
    "    # situation = item['utterance']\n",
    "    situation = 'Observing your current situation,'\n",
    "    question = item['question']\n",
    "    answer = item['answer']\n",
    "    question_type = get_sqa_question_type(question)\n",
    "    prompt = situation + ' ' + question + \" Answer the question using a sentence.\"\n",
    "\n",
    "    if split == 'train':\n",
    "        if answer[-1] != \".\":\n",
    "            answer += \".\"\n",
    "        new_data.append({\n",
    "            'scan_id': scene_id,\n",
    "            'obj_id': obj_id,\n",
    "            'prompt': prompt,\n",
    "            'utterance': answer,\n",
    "            'sqa_type': question_type\n",
    "        })\n",
    "    else:\n",
    "        new_data.append({\n",
    "            'scan_id': scene_id,\n",
    "            'obj_id': obj_id,\n",
    "            'prompt': prompt,\n",
    "            'ref_captions': [answer],\n",
    "            'sqa_type': question_type\n",
    "        })\n",
    "\n",
    "    # break\n",
    "\n",
    "new_data = random.sample(new_data, int(0.2 * len(data)))\n",
    "\n",
    "with open(f\"annotations/viewqa/ScanNet_single_{split}_sampled.json\", 'w') as f:\n",
    "    json.dump(new_data, f, indent=4)"
   ]
  },
  {
   "cell_type": "markdown",
   "metadata": {},
   "source": [
    "### Process viewqa multi view"
   ]
  },
  {
   "cell_type": "code",
   "execution_count": 4,
   "metadata": {},
   "outputs": [
    {
     "name": "stdout",
     "output_type": "stream",
     "text": [
      "4761\n"
     ]
    }
   ],
   "source": [
    "import json\n",
    "import random\n",
    "import numpy as np\n",
    "\n",
    "from preprocess.prepare_sqa3d_annos import get_sqa_question_type\n",
    "\n",
    "split = \"val\"\n",
    "data = json.load(open(f\"annotations/viewqa/ScanNet_mv_{split}.json\", 'r'))\n",
    "\n",
    "print(len(data))\n",
    "\n",
    "new_data = []\n",
    "\n",
    "for item in data:\n",
    "    # print(item)\n",
    "    # obj_id = item['obj_id']\n",
    "    scene_id = item['scan_id']\n",
    "    # situation = item['utterance']\n",
    "    situation = item['pre_situation']\n",
    "    question = item['question']\n",
    "    answer = item['answer']\n",
    "    question_type = get_sqa_question_type(question)\n",
    "    prompt = situation + ' ' + question + \" Answer the question using a sentence.\"\n",
    "\n",
    "    if split == 'train':\n",
    "        if answer[-1] != \".\":\n",
    "            answer += \".\"\n",
    "        new_data.append({\n",
    "            'scene_id': scene_id,\n",
    "            # 'obj_id': obj_id,\n",
    "            'prompt': prompt,\n",
    "            'caption': answer,\n",
    "            'sqa_type': question_type\n",
    "        })\n",
    "    else:\n",
    "        new_data.append({\n",
    "            'scene_id': scene_id,\n",
    "            # 'obj_id': obj_id,\n",
    "            'prompt': prompt,\n",
    "            'ref_captions': [answer],\n",
    "            'sqa_type': question_type\n",
    "        })\n",
    "\n",
    "    # break\n",
    "\n",
    "new_data = random.sample(new_data, int(0.2 * len(data)))\n",
    "\n",
    "with open(f\"annotations/viewqa/ScanNet_mv_{split}_sampled.json\", 'w') as f:\n",
    "    json.dump(new_data, f, indent=4)"
   ]
  },
  {
   "cell_type": "code",
   "execution_count": 20,
   "metadata": {},
   "outputs": [
    {
     "name": "stdout",
     "output_type": "stream",
     "text": [
      "2007\n"
     ]
    }
   ],
   "source": [
    "import json\n",
    "import random\n",
    "import numpy as np\n",
    "\n",
    "from preprocess.prepare_sqa3d_annos import get_sqa_question_type\n",
    "\n",
    "split = \"val\"\n",
    "data = json.load(open(f\"annotations/scan2cap_mask3d_val.json\", 'r'))\n",
    "print(len(data))"
   ]
  }
 ],
 "metadata": {
  "kernelspec": {
   "display_name": "vlm",
   "language": "python",
   "name": "python3"
  },
  "language_info": {
   "codemirror_mode": {
    "name": "ipython",
    "version": 3
   },
   "file_extension": ".py",
   "mimetype": "text/x-python",
   "name": "python",
   "nbconvert_exporter": "python",
   "pygments_lexer": "ipython3",
   "version": "3.10.16"
  }
 },
 "nbformat": 4,
 "nbformat_minor": 2
}
